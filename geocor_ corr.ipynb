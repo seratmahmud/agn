{
 "cells": [
  {
   "cell_type": "markdown",
   "id": "9eb3a2f0",
   "metadata": {},
   "source": [
    "# Georcoronal Correction\n"
   ]
  },
  {
   "cell_type": "code",
   "execution_count": null,
   "id": "f3d06e98",
   "metadata": {},
   "outputs": [],
   "source": [
    "# import\n"
   ]
  },
  {
   "cell_type": "markdown",
   "id": "2b80d461",
   "metadata": {},
   "source": [
    "## Find the width of the lines in pixels and Angstroms.\n"
   ]
  },
  {
   "cell_type": "markdown",
   "id": "b8371408",
   "metadata": {},
   "source": [
    "Data we have:\n",
    "\n",
    "Grating Dispersion: 0.6 Angstorm / pixel\n",
    "\n"
   ]
  }
 ],
 "metadata": {
  "kernelspec": {
   "display_name": "Python 3 (ipykernel)",
   "language": "python",
   "name": "python3"
  },
  "language_info": {
   "codemirror_mode": {
    "name": "ipython",
    "version": 3
   },
   "file_extension": ".py",
   "mimetype": "text/x-python",
   "name": "python",
   "nbconvert_exporter": "python",
   "pygments_lexer": "ipython3",
   "version": "3.11.5"
  }
 },
 "nbformat": 4,
 "nbformat_minor": 5
}
