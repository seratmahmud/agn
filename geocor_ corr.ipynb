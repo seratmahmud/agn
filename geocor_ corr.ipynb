{
 "cells": [
  {
   "cell_type": "markdown",
   "id": "1063700c",
   "metadata": {},
   "source": [
    "# Georcoronal Correction\n"
   ]
  },
  {
   "cell_type": "code",
   "execution_count": 1,
   "id": "b9e55232",
   "metadata": {},
   "outputs": [],
   "source": [
    "# import\n",
    "import pylatex"
   ]
  },
  {
   "cell_type": "markdown",
   "id": "03a585d0",
   "metadata": {},
   "source": [
    "## Find the width of the lines in pixels and Angstroms.\n"
   ]
  },
  {
   "cell_type": "markdown",
   "id": "36e01180",
   "metadata": {},
   "source": [
    "## Projected Aperture Calculation\n",
    "\n",
    "### Given Data\n",
    "- **Aperture PSA width:** 0.2 arcseconds\n",
    "- **COS Platescale:** 23.0 milliarcseconds/pixel = 0.023 arcseconds/pixel\n",
    "- **Grating G140L Average Dispersion:** 0.6 Angstroms/pixel\n",
    "- **Central Wavelength: 800 Angstrom\n",
    "- **\n",
    "\n",
    "### Calculation\n",
    "1. **Calculate the projected aperture width in pixels:**\n",
    "\n",
    "   $$\n",
    "   \\text{Projected aperture width (pixels)} = \\frac{0.2 \\text{ arcseconds}}{0.023 \\text{ arcseconds per pixel}} = 8.7 \\text{ pixels}\n",
    "   $$\n",
    "\n",
    "2. **Calculate the projected aperture width in Angstroms:**\n",
    "\n",
    "   $$\n",
    "   \\text{Projected aperture width (Angstroms)} = 8.7 \\text{ pixels} \\times 0.6 \\text{ Angstroms per pixel} = 5.22 \\text{ Angstroms}\n",
    "   $$\n",
    "\n"
   ]
  },
  {
   "cell_type": "code",
   "execution_count": null,
   "id": "84d8fd19",
   "metadata": {},
   "outputs": [],
   "source": []
  }
 ],
 "metadata": {
  "kernelspec": {
   "display_name": "Python 3 (ipykernel)",
   "language": "python",
   "name": "python3"
  },
  "language_info": {
   "codemirror_mode": {
    "name": "ipython",
    "version": 3
   },
   "file_extension": ".py",
   "mimetype": "text/x-python",
   "name": "python",
   "nbconvert_exporter": "python",
   "pygments_lexer": "ipython3",
   "version": "3.11.5"
  }
 },
 "nbformat": 4,
 "nbformat_minor": 5
}
