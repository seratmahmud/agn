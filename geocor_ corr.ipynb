{
 "cells": [
  {
   "cell_type": "markdown",
   "id": "cd6ed05f",
   "metadata": {},
   "source": [
    "# Georcoronal Correction\n"
   ]
  },
  {
   "cell_type": "code",
   "execution_count": 4,
   "id": "eb712711",
   "metadata": {},
   "outputs": [],
   "source": [
    "# import\n",
    "%matplotlib inline\n",
    "import os,sys\n",
    "import matplotlib\n",
    "import numpy as np\n",
    "from astropy.io import fits\n",
    "import matplotlib.pyplot as plt\n",
    "import warnings\n",
    "warnings.filterwarnings(\"ignore\")\n",
    "import csv\n",
    "import pandas as pd\n",
    "import sfdmap\n",
    "import extinction\n",
    "from astropy import units as u\n",
    "import math\n",
    "import pylatex\n",
    "\n",
    "# pyqsofit\n",
    "from scipy import interpolate\n",
    "\n",
    "# for SDSS SQL queries\n",
    "import mechanize\n",
    "from io import BytesIO\n",
    "\n",
    "import glob,timeit\n",
    "\n",
    "#sys.path.append('/Users/runnojc1/Software/py/pyspeckit')\n",
    "import pyspeckit\n",
    "from pyspeckit.spectrum.models.inherited_gaussfitter import gaussian\n",
    "from pyspeckit.specwarnings import PyspeckitWarning\n",
    "from astropy.table import Table"
   ]
  },
  {
   "cell_type": "markdown",
   "id": "db1a9294",
   "metadata": {},
   "source": [
    "## Find the width of the lines in pixels and Angstroms.\n"
   ]
  },
  {
   "cell_type": "markdown",
   "id": "58e84b5f",
   "metadata": {},
   "source": [
    "## Projected Aperture Calculation\n",
    "\n",
    "### Given Data\n",
    "- **Aperture PSA width:** 0.2 arcseconds\n",
    "- **COS Platescale:** 23.0 milliarcseconds/pixel = 0.023 arcseconds/pixel\n",
    "- **Grating G140L Average Dispersion:** 0.6 Angstroms/pixel\n",
    "- **Central Wavelength:** 800 Angstrom\n",
    "- \n",
    "\n",
    "### Calculation\n",
    "1. **Calculate the projected aperture width in pixels:**\n",
    "\n",
    "   $$\n",
    "   \\text{Projected aperture width (pixels)} = \\frac{0.2 \\text{ arcseconds}}{0.023 \\text{ arcseconds per pixel}} = 8.7 \\text{ pixels}\n",
    "   $$\n",
    "\n",
    "2. **Calculate the projected aperture width in Angstroms:**\n",
    "\n",
    "   $$\n",
    "   \\text{Projected aperture width (Angstroms)} = 8.7 \\text{ pixels} \\times 0.6 \\text{ Angstroms per pixel} = 5.22 \\text{ Angstroms}\n",
    "   $$\n",
    "\n"
   ]
  },
  {
   "cell_type": "code",
   "execution_count": null,
   "id": "81e47b50",
   "metadata": {},
   "outputs": [],
   "source": [
    "## Reading Table"
   ]
  }
 ],
 "metadata": {
  "kernelspec": {
   "display_name": "Python 3 (ipykernel)",
   "language": "python",
   "name": "python3"
  },
  "language_info": {
   "codemirror_mode": {
    "name": "ipython",
    "version": 3
   },
   "file_extension": ".py",
   "mimetype": "text/x-python",
   "name": "python",
   "nbconvert_exporter": "python",
   "pygments_lexer": "ipython3",
   "version": "3.11.5"
  }
 },
 "nbformat": 4,
 "nbformat_minor": 5
}
